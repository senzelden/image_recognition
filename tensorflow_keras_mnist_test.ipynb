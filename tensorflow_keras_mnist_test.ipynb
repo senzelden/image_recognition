{
 "cells": [
  {
   "cell_type": "code",
   "execution_count": 1,
   "metadata": {},
   "outputs": [],
   "source": [
    "# run code remotely on:\n",
    "# Google Colab\n",
    "# Paperspace"
   ]
  },
  {
   "cell_type": "code",
   "execution_count": 2,
   "metadata": {},
   "outputs": [],
   "source": [
    "import tensorflow.keras"
   ]
  },
  {
   "cell_type": "code",
   "execution_count": 3,
   "metadata": {},
   "outputs": [],
   "source": [
    "from tensorflow.keras.datasets import mnist\n",
    "\n",
    "(xtrain, ytrain), (xtest, ytest) = mnist.load_data()"
   ]
  },
  {
   "cell_type": "code",
   "execution_count": 4,
   "metadata": {},
   "outputs": [
    {
     "data": {
      "image/png": "[encoded data removed]",
      "text/plain": [
       "<Figure size 432x288 with 25 Axes>"
      ]
     },
     "metadata": {
      "needs_background": "light"
     },
     "output_type": "display_data"
    }
   ],
   "source": [
    "from matplotlib import pyplot as plt\n",
    "\n",
    "for i in range(25):\n",
    "    plt.subplot(5, 5, i+1)\n",
    "    plt.imshow(xtrain[i], cmap=plt.cm.Greys)\n",
    "    plt.axis('off')"
   ]
  },
  {
   "cell_type": "code",
   "execution_count": 5,
   "metadata": {},
   "outputs": [],
   "source": [
    "from tensorflow.keras.models import Sequential\n",
    "from tensorflow.keras.layers import Dense, Flatten\n",
    "from tensorflow.keras import backend as K"
   ]
  },
  {
   "cell_type": "code",
   "execution_count": 6,
   "metadata": {},
   "outputs": [
    {
     "data": {
      "text/plain": [
       "(60000, 28, 28)"
      ]
     },
     "execution_count": 6,
     "metadata": {},
     "output_type": "execute_result"
    }
   ],
   "source": [
    "xtrain.shape"
   ]
  },
  {
   "cell_type": "code",
   "execution_count": 7,
   "metadata": {},
   "outputs": [],
   "source": [
    "K.clear_session()\n",
    "\n",
    "m = Sequential([  # a list of layers\n",
    "        Flatten(input_shape=(28, 28, 1)),\n",
    "        Dense(128, activation='relu'),\n",
    "        Dense(10, activation='softmax')\n",
    "])"
   ]
  },
  {
   "cell_type": "code",
   "execution_count": 8,
   "metadata": {},
   "outputs": [
    {
     "name": "stdout",
     "output_type": "stream",
     "text": [
      "Model: \"sequential\"\n",
      "_________________________________________________________________\n",
      "Layer (type)                 Output Shape              Param #   \n",
      "=================================================================\n",
      "flatten (Flatten)            (None, 784)               0         \n",
      "_________________________________________________________________\n",
      "dense (Dense)                (None, 128)               100480    \n",
      "_________________________________________________________________\n",
      "dense_1 (Dense)              (None, 10)                1290      \n",
      "=================================================================\n",
      "Total params: 101,770\n",
      "Trainable params: 101,770\n",
      "Non-trainable params: 0\n",
      "_________________________________________________________________\n"
     ]
    }
   ],
   "source": [
    "m.summary()"
   ]
  },
  {
   "cell_type": "code",
   "execution_count": 9,
   "metadata": {},
   "outputs": [
    {
     "name": "stdout",
     "output_type": "stream",
     "text": [
      "Epoch 1/30\n",
      "375/375 [==============================] - 2s 4ms/step - loss: 5.6835 - accuracy: 0.8598 - val_loss: 1.2425 - val_accuracy: 0.9080\n",
      "Epoch 2/30\n",
      "375/375 [==============================] - 1s 4ms/step - loss: 0.8934 - accuracy: 0.9226 - val_loss: 0.7100 - val_accuracy: 0.9131\n",
      "Epoch 3/30\n",
      "375/375 [==============================] - 1s 4ms/step - loss: 0.4609 - accuracy: 0.9380 - val_loss: 0.5354 - val_accuracy: 0.9354\n",
      "Epoch 4/30\n",
      "375/375 [==============================] - 1s 4ms/step - loss: 0.3407 - accuracy: 0.9503 - val_loss: 0.5187 - val_accuracy: 0.9438\n",
      "Epoch 5/30\n",
      "375/375 [==============================] - 1s 4ms/step - loss: 0.2678 - accuracy: 0.9588 - val_loss: 0.5270 - val_accuracy: 0.9463\n",
      "Epoch 6/30\n",
      "375/375 [==============================] - 1s 4ms/step - loss: 0.2294 - accuracy: 0.9651 - val_loss: 0.5210 - val_accuracy: 0.9527\n",
      "Epoch 7/30\n",
      "375/375 [==============================] - 1s 4ms/step - loss: 0.1960 - accuracy: 0.9688 - val_loss: 0.4630 - val_accuracy: 0.9549\n",
      "Epoch 8/30\n",
      "375/375 [==============================] - 1s 4ms/step - loss: 0.1832 - accuracy: 0.9719 - val_loss: 0.4955 - val_accuracy: 0.9551\n",
      "Epoch 9/30\n",
      "375/375 [==============================] - 1s 4ms/step - loss: 0.1650 - accuracy: 0.9747 - val_loss: 0.5619 - val_accuracy: 0.9529\n",
      "Epoch 10/30\n",
      "375/375 [==============================] - 1s 4ms/step - loss: 0.1401 - accuracy: 0.9759 - val_loss: 0.5346 - val_accuracy: 0.9577\n",
      "Epoch 11/30\n",
      "375/375 [==============================] - 1s 4ms/step - loss: 0.1301 - accuracy: 0.9793 - val_loss: 0.6267 - val_accuracy: 0.9591\n",
      "Epoch 12/30\n",
      "375/375 [==============================] - 2s 4ms/step - loss: 0.1258 - accuracy: 0.9804 - val_loss: 0.5677 - val_accuracy: 0.9580\n",
      "Epoch 13/30\n",
      "375/375 [==============================] - 2s 4ms/step - loss: 0.1135 - accuracy: 0.9810 - val_loss: 0.6453 - val_accuracy: 0.9592\n",
      "Epoch 14/30\n",
      "375/375 [==============================] - 1s 4ms/step - loss: 0.1052 - accuracy: 0.9831 - val_loss: 0.6751 - val_accuracy: 0.9573\n",
      "Epoch 15/30\n",
      "375/375 [==============================] - 1s 4ms/step - loss: 0.1100 - accuracy: 0.9846 - val_loss: 0.7089 - val_accuracy: 0.9608\n",
      "Epoch 16/30\n",
      "375/375 [==============================] - 1s 4ms/step - loss: 0.1005 - accuracy: 0.9851 - val_loss: 0.6557 - val_accuracy: 0.9615\n",
      "Epoch 17/30\n",
      "375/375 [==============================] - 1s 4ms/step - loss: 0.0895 - accuracy: 0.9864 - val_loss: 0.6479 - val_accuracy: 0.9642\n",
      "Epoch 18/30\n",
      "375/375 [==============================] - 2s 4ms/step - loss: 0.0866 - accuracy: 0.9877 - val_loss: 0.6762 - val_accuracy: 0.9639\n",
      "Epoch 19/30\n",
      "375/375 [==============================] - 2s 4ms/step - loss: 0.0836 - accuracy: 0.9878 - val_loss: 0.7457 - val_accuracy: 0.9639\n",
      "Epoch 20/30\n",
      "375/375 [==============================] - 1s 4ms/step - loss: 0.0805 - accuracy: 0.9887 - val_loss: 0.7069 - val_accuracy: 0.9644\n",
      "Epoch 21/30\n",
      "375/375 [==============================] - 1s 4ms/step - loss: 0.0834 - accuracy: 0.9888 - val_loss: 0.6898 - val_accuracy: 0.9667\n",
      "Epoch 22/30\n",
      "375/375 [==============================] - 1s 4ms/step - loss: 0.0747 - accuracy: 0.9899 - val_loss: 0.7618 - val_accuracy: 0.9672\n",
      "Epoch 23/30\n",
      "375/375 [==============================] - 1s 4ms/step - loss: 0.0693 - accuracy: 0.9898 - val_loss: 0.7441 - val_accuracy: 0.9657\n",
      "Epoch 24/30\n",
      "375/375 [==============================] - 1s 4ms/step - loss: 0.0682 - accuracy: 0.9903 - val_loss: 0.8181 - val_accuracy: 0.9624\n",
      "Epoch 25/30\n",
      "375/375 [==============================] - 1s 4ms/step - loss: 0.0634 - accuracy: 0.9915 - val_loss: 0.8337 - val_accuracy: 0.9647\n",
      "Epoch 26/30\n",
      "375/375 [==============================] - 1s 4ms/step - loss: 0.0571 - accuracy: 0.9920 - val_loss: 0.8636 - val_accuracy: 0.9653\n",
      "Epoch 27/30\n",
      "375/375 [==============================] - 1s 4ms/step - loss: 0.0596 - accuracy: 0.9915 - val_loss: 0.9117 - val_accuracy: 0.9645\n",
      "Epoch 28/30\n",
      "375/375 [==============================] - 1s 4ms/step - loss: 0.0570 - accuracy: 0.9924 - val_loss: 0.8475 - val_accuracy: 0.9640\n",
      "Epoch 29/30\n",
      "375/375 [==============================] - 1s 4ms/step - loss: 0.0546 - accuracy: 0.9928 - val_loss: 0.8844 - val_accuracy: 0.9672\n",
      "Epoch 30/30\n",
      "375/375 [==============================] - 1s 4ms/step - loss: 0.0528 - accuracy: 0.9929 - val_loss: 0.9105 - val_accuracy: 0.9672\n"
     ]
    }
   ],
   "source": [
    "epochs=30\n",
    "m.compile(optimizer='rmsprop', loss='sparse_categorical_crossentropy', metrics=['accuracy'])\n",
    "hist = m.fit(xtrain, ytrain, epochs=epochs, batch_size=128, validation_split=0.2)"
   ]
  },
  {
   "cell_type": "code",
   "execution_count": 10,
   "metadata": {},
   "outputs": [
    {
     "name": "stdout",
     "output_type": "stream",
     "text": [
      "100/100 [==============================] - 0s 2ms/step - loss: 0.8564 - accuracy: 0.9678\n"
     ]
    },
    {
     "data": {
      "text/plain": [
       "[0.8564144372940063, 0.9678000211715698]"
      ]
     },
     "execution_count": 10,
     "metadata": {},
     "output_type": "execute_result"
    }
   ],
   "source": [
    "m.evaluate(xtest, ytest, batch_size=100)"
   ]
  },
  {
   "cell_type": "code",
   "execution_count": 11,
   "metadata": {},
   "outputs": [
    {
     "data": {
      "text/plain": [
       "[<matplotlib.lines.Line2D at 0x7faba5d50550>]"
      ]
     },
     "execution_count": 11,
     "metadata": {},
     "output_type": "execute_result"
    },
    {
     "data": {
      "image/png": "[encoded data removed]",
      "text/plain": [
       "<Figure size 432x288 with 1 Axes>"
      ]
     },
     "metadata": {
      "needs_background": "light"
     },
     "output_type": "display_data"
    }
   ],
   "source": [
    "# inspect the history object\n",
    "plt.plot(range(epochs), hist.history['loss'])\n",
    "plt.plot(range(epochs), hist.history['val_loss'])"
   ]
  },
  {
   "cell_type": "code",
   "execution_count": 12,
   "metadata": {},
   "outputs": [
    {
     "data": {
      "text/plain": [
       "[<matplotlib.lines.Line2D at 0x7faba60f5450>]"
      ]
     },
     "execution_count": 12,
     "metadata": {},
     "output_type": "execute_result"
    },
    {
     "data": {
      "image/png": "[encoded data removed]",
      "text/plain": [
       "<Figure size 432x288 with 1 Axes>"
      ]
     },
     "metadata": {
      "needs_background": "light"
     },
     "output_type": "display_data"
    }
   ],
   "source": [
    "plt.plot(range(epochs), hist.history['accuracy'])\n",
    "plt.plot(range(epochs), hist.history['val_accuracy'])"
   ]
  },
  {
   "cell_type": "code",
   "execution_count": null,
   "metadata": {},
   "outputs": [],
   "source": []
  }
 ],
 "metadata": {
  "kernelspec": {
   "display_name": "Python 3",
   "language": "python",
   "name": "python3"
  },
  "language_info": {
   "codemirror_mode": {
    "name": "ipython",
    "version": 3
   },
   "file_extension": ".py",
   "mimetype": "text/x-python",
   "name": "python",
   "nbconvert_exporter": "python",
   "pygments_lexer": "ipython3",
   "version": "3.7.6"
  }
 },
 "nbformat": 4,
 "nbformat_minor": 4
}
